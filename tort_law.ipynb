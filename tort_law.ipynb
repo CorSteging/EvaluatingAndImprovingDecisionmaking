{
 "cells": [
  {
   "cell_type": "markdown",
   "metadata": {},
   "source": [
    "# Tort Law Experiment"
   ]
  },
  {
   "cell_type": "code",
   "execution_count": 1,
   "metadata": {},
   "outputs": [],
   "source": [
    "from tort_dataset import *\n",
    "from neural_networks import *\n",
    "\n",
    "from tqdm import tqdm\n",
    "from joblib import Parallel, delayed\n",
    "\n",
    "%load_ext autoreload\n",
    "%autoreload 2\n",
    "\n",
    "# Increase resolution of plots\n",
    "plt.rcParams['figure.dpi'] = 150\n",
    "\n",
    "# Show more columns\n",
    "pd.set_option('display.max_column',None)"
   ]
  },
  {
   "cell_type": "markdown",
   "metadata": {},
   "source": [
    "### Initialize global parameters"
   ]
  },
  {
   "cell_type": "code",
   "execution_count": 2,
   "metadata": {},
   "outputs": [],
   "source": [
    "# Datasets parameters\n",
    "db_size = 5000\n",
    "db_size_small = 500\n",
    "\n",
    "# Network parameters\n",
    "hidden_layers = [(12), (24, 6), (24,10,3)]\n",
    "activation = 'logistic'\n",
    "max_iter = 50000\n",
    "learning_rate_init = 0.001\n",
    "solver = 'adam'\n",
    "batch_size = 50"
   ]
  },
  {
   "cell_type": "markdown",
   "metadata": {},
   "source": [
    "### Initialize Regular Datasets"
   ]
  },
  {
   "cell_type": "code",
   "execution_count": 3,
   "metadata": {},
   "outputs": [],
   "source": [
    "# Regular training dataset\n",
    "train_df = generate_dataset(db_size)\n",
    "X_train, y_train = preprocess(train_df, return_df=True)\n",
    "\n",
    "# Smaller training dataset\n",
    "small_train_df = generate_dataset(db_size_small)\n",
    "X_train_small, y_train_small = preprocess(small_train_df, return_df=True)\n",
    "\n",
    "# Regular test dataset\n",
    "test_df = generate_dataset(db_size)\n",
    "X_test, y_test = preprocess(test_df, return_df=True)"
   ]
  },
  {
   "cell_type": "markdown",
   "metadata": {},
   "source": [
    "### Initialize Rationale Evaluation Datasets"
   ]
  },
  {
   "cell_type": "code",
   "execution_count": 4,
   "metadata": {},
   "outputs": [],
   "source": [
    "# Unlawfulness\n",
    "unl_df = generate_unlawful_dataset()\n",
    "X_unl, y_unl = preprocess(unl_df)\n",
    "\n",
    "# Imputability\n",
    "imp_df = generate_imputability_dataset()\n",
    "X_imp, y_imp = preprocess(imp_df)\n",
    "\n",
    "# Caused\n",
    "cau_df = generate_cause_dataset()\n",
    "X_cau, y_cau = preprocess(cau_df)\n",
    "\n",
    "# Damages\n",
    "dmg_df = generate_damages_dataset()\n",
    "X_dmg, y_dmg = preprocess(dmg_df)\n",
    "\n",
    "# Violation-Purpose\n",
    "vp_df = generate_violationpurpose_dataset()\n",
    "X_vp, y_vp = preprocess(vp_df)"
   ]
  },
  {
   "cell_type": "markdown",
   "metadata": {},
   "source": [
    "### Train networks"
   ]
  },
  {
   "cell_type": "code",
   "execution_count": 5,
   "metadata": {},
   "outputs": [],
   "source": [
    "def create_network(layers):\n",
    "    '''Creates an MLP with a given number of hidden layers'''\n",
    "    return MLPClassifier(activation=activation, hidden_layer_sizes=layers, \n",
    "                         max_iter=max_iter, learning_rate_init=learning_rate_init,\n",
    "                         solver=solver, batch_size=batch_size)\n",
    "\n",
    "def train_networks(nn, X, y):\n",
    "    nn.fit(X, y)\n",
    "    return nn"
   ]
  },
  {
   "cell_type": "code",
   "execution_count": 6,
   "metadata": {},
   "outputs": [
    {
     "name": "stderr",
     "output_type": "stream",
     "text": [
      "100%|██████████| 3/3 [00:00<00:00, 499.86it/s]\n",
      "100%|██████████| 3/3 [00:00<00:00, 3000.93it/s]\n"
     ]
    }
   ],
   "source": [
    "# Create and train the neural networks on the regular training set\n",
    "neural_nets = [create_network(hls) for hls in hidden_layers]   \n",
    "neural_nets = Parallel(n_jobs=-1)(delayed(train_networks)(nn, X_train, y_train) \n",
    "                                 for nn in tqdm(neural_nets))\n",
    "\n",
    "# # Create and train the neural networks on the smaller training set\n",
    "neural_nets_small = [create_network(hls) for hls in hidden_layers]\n",
    "neural_nets_small = Parallel(n_jobs=-1)(delayed(train_networks)(nn, X_train_small, y_train_small) \n",
    "                                 for nn in tqdm(neural_nets_small))"
   ]
  },
  {
   "cell_type": "markdown",
   "metadata": {},
   "source": [
    "## Test performance on regular dataset and rationale evaluation datasets"
   ]
  },
  {
   "cell_type": "code",
   "execution_count": 7,
   "metadata": {},
   "outputs": [
    {
     "data": {
      "text/html": [
       "<div>\n",
       "<style scoped>\n",
       "    .dataframe tbody tr th:only-of-type {\n",
       "        vertical-align: middle;\n",
       "    }\n",
       "\n",
       "    .dataframe tbody tr th {\n",
       "        vertical-align: top;\n",
       "    }\n",
       "\n",
       "    .dataframe thead th {\n",
       "        text-align: right;\n",
       "    }\n",
       "</style>\n",
       "<table border=\"1\" class=\"dataframe\">\n",
       "  <thead>\n",
       "    <tr style=\"text-align: right;\">\n",
       "      <th></th>\n",
       "      <th>regular</th>\n",
       "      <th>unl</th>\n",
       "      <th>imp</th>\n",
       "      <th>cau</th>\n",
       "      <th>dmg</th>\n",
       "      <th>vp</th>\n",
       "    </tr>\n",
       "  </thead>\n",
       "  <tbody>\n",
       "    <tr>\n",
       "      <th>regular 1 layers</th>\n",
       "      <td>100.0</td>\n",
       "      <td>100.0</td>\n",
       "      <td>100.0</td>\n",
       "      <td>100.0</td>\n",
       "      <td>100.0</td>\n",
       "      <td>100.0</td>\n",
       "    </tr>\n",
       "    <tr>\n",
       "      <th>regular 2 layers</th>\n",
       "      <td>100.0</td>\n",
       "      <td>100.0</td>\n",
       "      <td>100.0</td>\n",
       "      <td>100.0</td>\n",
       "      <td>100.0</td>\n",
       "      <td>100.0</td>\n",
       "    </tr>\n",
       "    <tr>\n",
       "      <th>regular 3 layers</th>\n",
       "      <td>100.0</td>\n",
       "      <td>100.0</td>\n",
       "      <td>100.0</td>\n",
       "      <td>100.0</td>\n",
       "      <td>100.0</td>\n",
       "      <td>100.0</td>\n",
       "    </tr>\n",
       "  </tbody>\n",
       "</table>\n",
       "</div>"
      ],
      "text/plain": [
       "                  regular    unl    imp    cau    dmg     vp\n",
       "regular 1 layers    100.0  100.0  100.0  100.0  100.0  100.0\n",
       "regular 2 layers    100.0  100.0  100.0  100.0  100.0  100.0\n",
       "regular 3 layers    100.0  100.0  100.0  100.0  100.0  100.0"
      ]
     },
     "execution_count": 7,
     "metadata": {},
     "output_type": "execute_result"
    }
   ],
   "source": [
    "# Regular training set \n",
    "accs = pd.DataFrame.from_dict({'regular '+str(idx+1) + ' layers': {\n",
    "    'regular': round(100*accuracy_score(y_test, nn.predict(X_test)), 2),\n",
    "    'unl': round(100*accuracy_score(y_unl, nn.predict(X_unl)), 2),\n",
    "    'imp': round(100*accuracy_score(y_imp, nn.predict(X_imp)), 2),\n",
    "    'cau': round(100*accuracy_score(y_cau, nn.predict(X_cau)), 2),\n",
    "    'dmg': round(100*accuracy_score(y_dmg, nn.predict(X_dmg)), 2),\n",
    "    'vp': round(100*accuracy_score(y_vp, nn.predict(X_vp)), 2),\n",
    "} for idx, nn in enumerate(neural_nets)}, orient='index')\n",
    "accs.to_csv('results/accuracies/accuracies_tort.csv')\n",
    "accs"
   ]
  },
  {
   "cell_type": "code",
   "execution_count": 8,
   "metadata": {},
   "outputs": [
    {
     "data": {
      "text/html": [
       "<div>\n",
       "<style scoped>\n",
       "    .dataframe tbody tr th:only-of-type {\n",
       "        vertical-align: middle;\n",
       "    }\n",
       "\n",
       "    .dataframe tbody tr th {\n",
       "        vertical-align: top;\n",
       "    }\n",
       "\n",
       "    .dataframe thead th {\n",
       "        text-align: right;\n",
       "    }\n",
       "</style>\n",
       "<table border=\"1\" class=\"dataframe\">\n",
       "  <thead>\n",
       "    <tr style=\"text-align: right;\">\n",
       "      <th></th>\n",
       "      <th>regular</th>\n",
       "      <th>unl</th>\n",
       "      <th>imp</th>\n",
       "      <th>cau</th>\n",
       "      <th>dmg</th>\n",
       "      <th>vp</th>\n",
       "    </tr>\n",
       "  </thead>\n",
       "  <tbody>\n",
       "    <tr>\n",
       "      <th>smaller 1 layers</th>\n",
       "      <td>98.28</td>\n",
       "      <td>93.45</td>\n",
       "      <td>92.97</td>\n",
       "      <td>96.88</td>\n",
       "      <td>97.77</td>\n",
       "      <td>99.35</td>\n",
       "    </tr>\n",
       "    <tr>\n",
       "      <th>smaller 2 layers</th>\n",
       "      <td>98.92</td>\n",
       "      <td>97.02</td>\n",
       "      <td>94.53</td>\n",
       "      <td>98.66</td>\n",
       "      <td>98.66</td>\n",
       "      <td>98.70</td>\n",
       "    </tr>\n",
       "    <tr>\n",
       "      <th>smaller 3 layers</th>\n",
       "      <td>98.16</td>\n",
       "      <td>96.43</td>\n",
       "      <td>91.41</td>\n",
       "      <td>100.00</td>\n",
       "      <td>100.00</td>\n",
       "      <td>90.91</td>\n",
       "    </tr>\n",
       "  </tbody>\n",
       "</table>\n",
       "</div>"
      ],
      "text/plain": [
       "                  regular    unl    imp     cau     dmg     vp\n",
       "smaller 1 layers    98.28  93.45  92.97   96.88   97.77  99.35\n",
       "smaller 2 layers    98.92  97.02  94.53   98.66   98.66  98.70\n",
       "smaller 3 layers    98.16  96.43  91.41  100.00  100.00  90.91"
      ]
     },
     "execution_count": 8,
     "metadata": {},
     "output_type": "execute_result"
    }
   ],
   "source": [
    "# smaller training set \n",
    "accs_smaller = pd.DataFrame.from_dict({'smaller '+str(idx+1) + ' layers': {\n",
    "    'regular': round(100*accuracy_score(y_test, nn.predict(X_test)), 2),\n",
    "    'unl': round(100*accuracy_score(y_unl, nn.predict(X_unl)), 2),\n",
    "    'imp': round(100*accuracy_score(y_imp, nn.predict(X_imp)), 2),\n",
    "    'cau': round(100*accuracy_score(y_cau, nn.predict(X_cau)), 2),\n",
    "    'dmg': round(100*accuracy_score(y_dmg, nn.predict(X_dmg)), 2),\n",
    "    'vp': round(100*accuracy_score(y_vp, nn.predict(X_vp)), 2),\n",
    "} for idx, nn in enumerate(neural_nets_small)}, orient='index')\n",
    "accs_smaller.to_csv('results/accuracies/accuracies_tort_smaller.csv')\n",
    "accs_smaller"
   ]
  },
  {
   "cell_type": "markdown",
   "metadata": {},
   "source": [
    "## Run the experiment multiple times"
   ]
  },
  {
   "cell_type": "code",
   "execution_count": null,
   "metadata": {},
   "outputs": [],
   "source": [
    "import copy \n",
    "\n",
    "def convert_accs(accs):\n",
    "    '''\n",
    "    Converts list of accuracies to mean and std\n",
    "    '''\n",
    "    return str(round(np.mean(accs), 2)) + ' ± ' + str(round(np.std(accs), 2))   \n",
    "\n",
    "def merge_accuracies(accuracies):\n",
    "    '''\n",
    "    Merge the list of accuracies to a pandas dataframe with mean and standard deviations\n",
    "    '''\n",
    "    accs = copy.deepcopy(accuracies)\n",
    "    results = accs[0]\n",
    "    for idx, x in enumerate(accs):\n",
    "        if idx == 0: continue\n",
    "        for train_name, train_data in x.items():\n",
    "            for test_name, test_data in train_data.items():\n",
    "                results[train_name][test_name].append(test_data[0])\n",
    "                if idx == len(accs)-1:\n",
    "                    results[train_name][test_name] = convert_accs(results[train_name][test_name])\n",
    "    return pd.DataFrame.from_dict(results).T\n",
    "\n",
    "def run_experiment():\n",
    "    '''\n",
    "    Train and test neural networks\n",
    "    '''\n",
    "\n",
    "    accuracies = {}\n",
    "\n",
    "    # Training datasets\n",
    "    datasets_train = {\n",
    "        'regular' : generate_dataset(5000),\n",
    "        'smaller' : generate_dataset(500),\n",
    "    }\n",
    "    preprocessed_train = {name: preprocess(df) for name, df in datasets_train.items()}\n",
    "\n",
    "    # Test datasets\n",
    "    datasets_test = {\n",
    "        'regular' : generate_dataset(5000),\n",
    "        'unique' : generate_unique_dataset(),\n",
    "        'unl' : generate_unlawful_dataset(),\n",
    "        'imp' : generate_impudence_dataset(),\n",
    "        'cau' : generate_cause_dataset(),\n",
    "        'dmg' : generate_damages_dataset(),\n",
    "        'bp' : generate_violationpurpose_dataset(),\n",
    "    }\n",
    "    preprocessed_test = {name: preprocess(df) for name, df in datasets_test.items()}\n",
    "    \n",
    "    for train_name, train_data in preprocessed_train.items():       \n",
    "        # Create and train the neural networks on training set A\n",
    "        neural_nets = [create_network(hls) for hls in hidden_layers]   \n",
    "        neural_nets = Parallel(n_jobs=1)(delayed(train_networks)(nn, train_data[0], train_data[1]) \n",
    "                                         for nn in neural_nets)\n",
    "        \n",
    "        # Initialize accuracies data\n",
    "        for idx, nn in enumerate(neural_nets):\n",
    "            accuracies[train_name+'_'+str(idx+1)] = {test_name: [] for test_name in preprocessed_test.keys()}\n",
    "\n",
    "        # Add accuracies\n",
    "        for test_name, test_data in preprocessed_test.items():\n",
    "            for idx, nn in enumerate(neural_nets):\n",
    "                accuracies[train_name+'_'+str(idx+1)][test_name].append(100*accuracy_score(test_data[1], nn.predict(test_data[0])))\n",
    "\n",
    "    return accuracies"
   ]
  },
  {
   "cell_type": "code",
   "execution_count": null,
   "metadata": {},
   "outputs": [],
   "source": [
    "# Number of runs\n",
    "num_runs = 50\n",
    "accuracies = Parallel(n_jobs=-1)(delayed(run_experiment)() for run in tqdm(range(0, num_runs)))\n",
    "results = merge_accuracies(accuracies)\n",
    "results.to_csv('results/accuracies/50_runs_tort.csv')\n",
    "results"
   ]
  }
 ],
 "metadata": {
  "kernelspec": {
   "display_name": "Python 3",
   "language": "python",
   "name": "python3"
  },
  "language_info": {
   "codemirror_mode": {
    "name": "ipython",
    "version": 3
   },
   "file_extension": ".py",
   "mimetype": "text/x-python",
   "name": "python",
   "nbconvert_exporter": "python",
   "pygments_lexer": "ipython3",
   "version": "3.9.2"
  }
 },
 "nbformat": 4,
 "nbformat_minor": 4
}
